{
 "cells": [
  {
   "cell_type": "code",
   "execution_count": 1,
   "metadata": {},
   "outputs": [],
   "source": [
    "import pandas as pd\n",
    "import snow.snow as sf\n",
    "import numpy as np\n",
    "\n",
    "from model import ImplicitFactorizationModel"
   ]
  },
  {
   "cell_type": "code",
   "execution_count": 2,
   "metadata": {},
   "outputs": [
    {
     "name": "stdout",
     "output_type": "stream",
     "text": [
      "Using all_data_viewer...\n",
      "Established connection.\n",
      "Querying dixons_wh.all_data.postgres\n",
      "Interactions data:  ('mark.ngoi.92@gmail.com', 436356, '2019-09-30', None, None, None, Decimal('7.200000'), 'No', 'Melbourne', 965, 'Gotcha!', 1443, '2019-09-30', Decimal('7.200000000000')) \n",
      "\n",
      "Connection succesfully closed.\n"
     ]
    }
   ],
   "source": [
    "interactions_df = sf.from_snow(wh='dixons_wh')"
   ]
  },
  {
   "cell_type": "code",
   "execution_count": 3,
   "metadata": {},
   "outputs": [
    {
     "name": "stdout",
     "output_type": "stream",
     "text": [
      "Using zans_role...\n",
      "Established connection.\n",
      "Querying zans_wh.zans_db.geo_clusters\n",
      "Custom data:  (1872, 27, 74, 169, 568) \n",
      "\n",
      "Connection succesfully closed.\n"
     ]
    }
   ],
   "source": [
    "coordinates_data = sf.from_snow(role='zans_role',wh='zans_wh',db='zans_db'\n",
    "                                 ,schema='geo_clusters',query='select * from sydney')\n",
    "\n",
    "coordinates_df = pd.DataFrame(coordinates_data\n",
    "                              ,columns=['branchId','l','m','s','t'])"
   ]
  },
  {
   "cell_type": "code",
   "execution_count": 4,
   "metadata": {},
   "outputs": [
    {
     "data": {
      "text/plain": [
       "(347209, 9)"
      ]
     },
     "execution_count": 4,
     "metadata": {},
     "output_type": "execute_result"
    }
   ],
   "source": [
    "sydney_df = coordinates_df.merge(interactions_df)\n",
    "sydney_df = sydney_df[['date','branchId','merchant','userId','email','l','m','s','t']]\n",
    "sydney_df.shape"
   ]
  },
  {
   "cell_type": "markdown",
   "metadata": {},
   "source": [
    "### Information retrieval"
   ]
  },
  {
   "cell_type": "code",
   "execution_count": 5,
   "metadata": {},
   "outputs": [],
   "source": [
    "from collections import defaultdict\n",
    "\n",
    "def build_retrieval_dicts(df):\n",
    "    \n",
    "    bid_to_merchant = {}\n",
    "    uid_to_email = {}\n",
    "    email_to_uid = {}\n",
    "    bid_features = {}\n",
    "    internal_uid = {}\n",
    "    internal_bid = {}\n",
    "    external_uid = {}\n",
    "    external_bid = {}\n",
    "    \n",
    "    for i,bid in enumerate(df.branchId.unique()):\n",
    "        \n",
    "        temp_df = df[df.branchId==bid]\n",
    "        bid_to_merchant[int(bid)] = temp_df.merchant.unique()[0]\n",
    "        \n",
    "        internal_bid[bid] = i\n",
    "        external_bid[i] = bid\n",
    "        \n",
    "        features = temp_df.t.unique()[0]\n",
    "        bid_features[int(bid)] = features\n",
    "    \n",
    "    print('Items processing complete.')\n",
    "    \n",
    "    temp_df = df[['userId','email']].drop_duplicates(subset='userId')\n",
    "\n",
    "    for i,r in temp_df.iterrows():\n",
    "        \n",
    "        internal_uid[r['userId']] = i\n",
    "        external_uid[i] = r['userId']\n",
    "        \n",
    "        uid_to_email[int(r['userId'])] = r['email']\n",
    "        email_to_uid[r['email']] = int(r['userId'])\n",
    "    \n",
    "    return bid_to_merchant, uid_to_email, email_to_uid, bid_features, internal_uid, internal_bid, external_uid, external_bid"
   ]
  },
  {
   "cell_type": "code",
   "execution_count": 6,
   "metadata": {},
   "outputs": [
    {
     "name": "stdout",
     "output_type": "stream",
     "text": [
      "Items processing complete.\n"
     ]
    }
   ],
   "source": [
    "bid_to_merchant, uid_to_email, email_to_uid, bid_features, internal_uid, internal_bid, external_uid, external_bid = build_retrieval_dicts(sydney_df)"
   ]
  },
  {
   "cell_type": "code",
   "execution_count": 7,
   "metadata": {},
   "outputs": [],
   "source": [
    "def past_transactions(email,df=sydney_df):\n",
    "    \n",
    "    interactions = df[['date','userId','email','merchant','t']]\n",
    "    \n",
    "    if email: return interactions[interactions.email==email].sort_values(by='date')\n",
    "    if uid: return interactions[interactions.userId==uid].sort_values(by='date')\n",
    "    else: return None"
   ]
  },
  {
   "cell_type": "code",
   "execution_count": 8,
   "metadata": {},
   "outputs": [
    {
     "data": {
      "text/html": [
       "<div>\n",
       "<style scoped>\n",
       "    .dataframe tbody tr th:only-of-type {\n",
       "        vertical-align: middle;\n",
       "    }\n",
       "\n",
       "    .dataframe tbody tr th {\n",
       "        vertical-align: top;\n",
       "    }\n",
       "\n",
       "    .dataframe thead th {\n",
       "        text-align: right;\n",
       "    }\n",
       "</style>\n",
       "<table border=\"1\" class=\"dataframe\">\n",
       "  <thead>\n",
       "    <tr style=\"text-align: right;\">\n",
       "      <th></th>\n",
       "      <th>date</th>\n",
       "      <th>userId</th>\n",
       "      <th>email</th>\n",
       "      <th>merchant</th>\n",
       "      <th>t</th>\n",
       "    </tr>\n",
       "  </thead>\n",
       "  <tbody>\n",
       "    <tr>\n",
       "      <th>146208</th>\n",
       "      <td>2019-09-02</td>\n",
       "      <td>227214</td>\n",
       "      <td>zan.thomson@gmail.com</td>\n",
       "      <td>Crafty Cuts</td>\n",
       "      <td>435</td>\n",
       "    </tr>\n",
       "    <tr>\n",
       "      <th>35529</th>\n",
       "      <td>2019-09-12</td>\n",
       "      <td>227214</td>\n",
       "      <td>zan.thomson@gmail.com</td>\n",
       "      <td>Pablo and Rusty's</td>\n",
       "      <td>436</td>\n",
       "    </tr>\n",
       "    <tr>\n",
       "      <th>4934</th>\n",
       "      <td>2019-09-19</td>\n",
       "      <td>227214</td>\n",
       "      <td>zan.thomson@gmail.com</td>\n",
       "      <td>Industry Beans</td>\n",
       "      <td>439</td>\n",
       "    </tr>\n",
       "    <tr>\n",
       "      <th>4937</th>\n",
       "      <td>2019-09-20</td>\n",
       "      <td>227214</td>\n",
       "      <td>zan.thomson@gmail.com</td>\n",
       "      <td>Industry Beans</td>\n",
       "      <td>439</td>\n",
       "    </tr>\n",
       "    <tr>\n",
       "      <th>4935</th>\n",
       "      <td>2019-09-26</td>\n",
       "      <td>227214</td>\n",
       "      <td>zan.thomson@gmail.com</td>\n",
       "      <td>Industry Beans</td>\n",
       "      <td>439</td>\n",
       "    </tr>\n",
       "  </tbody>\n",
       "</table>\n",
       "</div>"
      ],
      "text/plain": [
       "              date  userId                  email           merchant    t\n",
       "146208  2019-09-02  227214  zan.thomson@gmail.com        Crafty Cuts  435\n",
       "35529   2019-09-12  227214  zan.thomson@gmail.com  Pablo and Rusty's  436\n",
       "4934    2019-09-19  227214  zan.thomson@gmail.com     Industry Beans  439\n",
       "4937    2019-09-20  227214  zan.thomson@gmail.com     Industry Beans  439\n",
       "4935    2019-09-26  227214  zan.thomson@gmail.com     Industry Beans  439"
      ]
     },
     "execution_count": 8,
     "metadata": {},
     "output_type": "execute_result"
    }
   ],
   "source": [
    "past_transactions('zan.thomson@gmail.com').sort_values(by='date').tail()"
   ]
  },
  {
   "cell_type": "code",
   "execution_count": 9,
   "metadata": {},
   "outputs": [
    {
     "data": {
      "text/html": [
       "<div>\n",
       "<style scoped>\n",
       "    .dataframe tbody tr th:only-of-type {\n",
       "        vertical-align: middle;\n",
       "    }\n",
       "\n",
       "    .dataframe tbody tr th {\n",
       "        vertical-align: top;\n",
       "    }\n",
       "\n",
       "    .dataframe thead th {\n",
       "        text-align: right;\n",
       "    }\n",
       "</style>\n",
       "<table border=\"1\" class=\"dataframe\">\n",
       "  <thead>\n",
       "    <tr style=\"text-align: right;\">\n",
       "      <th></th>\n",
       "      <th>email</th>\n",
       "      <th>userId</th>\n",
       "      <th>funnel1</th>\n",
       "      <th>funnel2</th>\n",
       "      <th>funnel3</th>\n",
       "      <th>funnel10</th>\n",
       "      <th>amount</th>\n",
       "      <th>is_inorganic</th>\n",
       "      <th>city</th>\n",
       "      <th>merchantId</th>\n",
       "      <th>merchant</th>\n",
       "      <th>branchId</th>\n",
       "      <th>date</th>\n",
       "      <th>aov</th>\n",
       "    </tr>\n",
       "  </thead>\n",
       "  <tbody>\n",
       "    <tr>\n",
       "      <th>0</th>\n",
       "      <td>mark.ngoi.92@gmail.com</td>\n",
       "      <td>436356</td>\n",
       "      <td>2019-09-30</td>\n",
       "      <td>None</td>\n",
       "      <td>None</td>\n",
       "      <td>None</td>\n",
       "      <td>7.200000</td>\n",
       "      <td>No</td>\n",
       "      <td>Melbourne</td>\n",
       "      <td>965.0</td>\n",
       "      <td>Gotcha!</td>\n",
       "      <td>1443.0</td>\n",
       "      <td>2019-09-30</td>\n",
       "      <td>7.200000000000</td>\n",
       "    </tr>\n",
       "    <tr>\n",
       "      <th>1</th>\n",
       "      <td>kocep@live.com</td>\n",
       "      <td>447478</td>\n",
       "      <td>2019-09-30</td>\n",
       "      <td>None</td>\n",
       "      <td>None</td>\n",
       "      <td>None</td>\n",
       "      <td>7.100000</td>\n",
       "      <td>No</td>\n",
       "      <td>Melbourne</td>\n",
       "      <td>1063.0</td>\n",
       "      <td>Happy Lemon</td>\n",
       "      <td>1604.0</td>\n",
       "      <td>2019-09-30</td>\n",
       "      <td>7.100000000000</td>\n",
       "    </tr>\n",
       "    <tr>\n",
       "      <th>2</th>\n",
       "      <td>sj_litwiniuk@internode.on.net</td>\n",
       "      <td>388519</td>\n",
       "      <td>2019-09-30</td>\n",
       "      <td>None</td>\n",
       "      <td>None</td>\n",
       "      <td>None</td>\n",
       "      <td>6.500000</td>\n",
       "      <td>No</td>\n",
       "      <td>Melbourne</td>\n",
       "      <td>1017.0</td>\n",
       "      <td>CoCo Fresh Tea &amp; Juice</td>\n",
       "      <td>1522.0</td>\n",
       "      <td>2019-09-30</td>\n",
       "      <td>6.500000000000</td>\n",
       "    </tr>\n",
       "    <tr>\n",
       "      <th>3</th>\n",
       "      <td>komon_z@163.com</td>\n",
       "      <td>441183</td>\n",
       "      <td>2019-09-30</td>\n",
       "      <td>None</td>\n",
       "      <td>None</td>\n",
       "      <td>None</td>\n",
       "      <td>18.000000</td>\n",
       "      <td>No</td>\n",
       "      <td>Melbourne</td>\n",
       "      <td>802.0</td>\n",
       "      <td>8Bit</td>\n",
       "      <td>1135.0</td>\n",
       "      <td>2019-09-30</td>\n",
       "      <td>18.000000000000</td>\n",
       "    </tr>\n",
       "    <tr>\n",
       "      <th>4</th>\n",
       "      <td>sine.metu.op125@gmail.com</td>\n",
       "      <td>447521</td>\n",
       "      <td>2019-09-30</td>\n",
       "      <td>None</td>\n",
       "      <td>None</td>\n",
       "      <td>None</td>\n",
       "      <td>36.500000</td>\n",
       "      <td>No</td>\n",
       "      <td>Sydney</td>\n",
       "      <td>1037.0</td>\n",
       "      <td>New Shanghai</td>\n",
       "      <td>1562.0</td>\n",
       "      <td>2019-09-30</td>\n",
       "      <td>36.500000000000</td>\n",
       "    </tr>\n",
       "  </tbody>\n",
       "</table>\n",
       "</div>"
      ],
      "text/plain": [
       "                           email  userId     funnel1 funnel2 funnel3 funnel10  \\\n",
       "0         mark.ngoi.92@gmail.com  436356  2019-09-30    None    None     None   \n",
       "1                 kocep@live.com  447478  2019-09-30    None    None     None   \n",
       "2  sj_litwiniuk@internode.on.net  388519  2019-09-30    None    None     None   \n",
       "3                komon_z@163.com  441183  2019-09-30    None    None     None   \n",
       "4      sine.metu.op125@gmail.com  447521  2019-09-30    None    None     None   \n",
       "\n",
       "      amount is_inorganic       city  merchantId                merchant  \\\n",
       "0   7.200000           No  Melbourne       965.0                 Gotcha!   \n",
       "1   7.100000           No  Melbourne      1063.0             Happy Lemon   \n",
       "2   6.500000           No  Melbourne      1017.0  CoCo Fresh Tea & Juice   \n",
       "3  18.000000           No  Melbourne       802.0                    8Bit   \n",
       "4  36.500000           No     Sydney      1037.0            New Shanghai   \n",
       "\n",
       "   branchId        date              aov  \n",
       "0    1443.0  2019-09-30   7.200000000000  \n",
       "1    1604.0  2019-09-30   7.100000000000  \n",
       "2    1522.0  2019-09-30   6.500000000000  \n",
       "3    1135.0  2019-09-30  18.000000000000  \n",
       "4    1562.0  2019-09-30  36.500000000000  "
      ]
     },
     "execution_count": 9,
     "metadata": {},
     "output_type": "execute_result"
    }
   ],
   "source": [
    "interactions_df.head()"
   ]
  },
  {
   "cell_type": "markdown",
   "metadata": {},
   "source": [
    "### Set up interactions dataset"
   ]
  },
  {
   "cell_type": "code",
   "execution_count": 10,
   "metadata": {},
   "outputs": [],
   "source": [
    "from interactions import Interactions"
   ]
  },
  {
   "cell_type": "code",
   "execution_count": 11,
   "metadata": {},
   "outputs": [],
   "source": [
    "df = sydney_df.sample(frac=1)\n",
    "\n",
    "uids = np.array([internal_uid[i] for i in df.userId.values], dtype=object)\n",
    "iids = np.array([internal_bid[i] for i in df.branchId.values], dtype=object)\n",
    "features = np.array([bid_features[external_bid[i]] for i in range(df.branchId.nunique())])\n",
    "\n",
    "inters = Interactions(uids,iids,timestamps=df.date.values,item_features=features)\n",
    "             "
   ]
  },
  {
   "cell_type": "code",
   "execution_count": 12,
   "metadata": {},
   "outputs": [
    {
     "ename": "NameError",
     "evalue": "name 'context_net' is not defined",
     "output_type": "error",
     "traceback": [
      "\u001b[0;31m---------------------------------------------------------------------------\u001b[0m",
      "\u001b[0;31mNameError\u001b[0m                                 Traceback (most recent call last)",
      "\u001b[0;32m<ipython-input-12-3582bbc072ae>\u001b[0m in \u001b[0;36m<module>\u001b[0;34m\u001b[0m\n\u001b[1;32m      1\u001b[0m \u001b[0mmodel\u001b[0m \u001b[0;34m=\u001b[0m \u001b[0mImplicitFactorizationModel\u001b[0m\u001b[0;34m(\u001b[0m\u001b[0mloss\u001b[0m\u001b[0;34m=\u001b[0m\u001b[0;34m'adaptive_hinge'\u001b[0m\u001b[0;34m,\u001b[0m\u001b[0mrepresentation\u001b[0m\u001b[0;34m=\u001b[0m\u001b[0;34m'nonlinear_mixture'\u001b[0m\u001b[0;34m)\u001b[0m\u001b[0;34m\u001b[0m\u001b[0;34m\u001b[0m\u001b[0m\n\u001b[0;32m----> 2\u001b[0;31m \u001b[0mmodel\u001b[0m\u001b[0;34m.\u001b[0m\u001b[0mfit\u001b[0m\u001b[0;34m(\u001b[0m\u001b[0minters\u001b[0m\u001b[0;34m)\u001b[0m\u001b[0;34m\u001b[0m\u001b[0;34m\u001b[0m\u001b[0m\n\u001b[0m",
      "\u001b[0;32m~/Desktop/code/mixture/model.py\u001b[0m in \u001b[0;36mfit\u001b[0;34m(self, interactions, verbose)\u001b[0m\n\u001b[1;32m    166\u001b[0m         \u001b[0;32mif\u001b[0m \u001b[0;32mnot\u001b[0m \u001b[0mself\u001b[0m\u001b[0;34m.\u001b[0m\u001b[0m_initialized\u001b[0m\u001b[0;34m:\u001b[0m\u001b[0;34m\u001b[0m\u001b[0;34m\u001b[0m\u001b[0m\n\u001b[1;32m    167\u001b[0m             \u001b[0mself\u001b[0m\u001b[0;34m.\u001b[0m\u001b[0m_initialize\u001b[0m\u001b[0;34m(\u001b[0m\u001b[0minteractions\u001b[0m\u001b[0;34m)\u001b[0m\u001b[0;34m\u001b[0m\u001b[0;34m\u001b[0m\u001b[0m\n\u001b[0;32m--> 168\u001b[0;31m \u001b[0;34m\u001b[0m\u001b[0m\n\u001b[0m\u001b[1;32m    169\u001b[0m         \u001b[0mself\u001b[0m\u001b[0;34m.\u001b[0m\u001b[0m_check_input\u001b[0m\u001b[0;34m(\u001b[0m\u001b[0muser_ids\u001b[0m\u001b[0;34m,\u001b[0m \u001b[0mitem_ids\u001b[0m\u001b[0;34m)\u001b[0m\u001b[0;34m\u001b[0m\u001b[0;34m\u001b[0m\u001b[0m\n\u001b[1;32m    170\u001b[0m \u001b[0;34m\u001b[0m\u001b[0m\n",
      "\u001b[0;32m~/Desktop/code/mixture/model.py\u001b[0m in \u001b[0;36m_initialize\u001b[0;34m(self, interactions)\u001b[0m\n\u001b[1;32m    115\u001b[0m         self._net = gpu(HybridContainer(latent_net,\n\u001b[1;32m    116\u001b[0m                                         \u001b[0muser_net\u001b[0m\u001b[0;34m,\u001b[0m\u001b[0;34m\u001b[0m\u001b[0;34m\u001b[0m\u001b[0m\n\u001b[0;32m--> 117\u001b[0;31m                                         item_net),\n\u001b[0m\u001b[1;32m    118\u001b[0m                         self._use_cuda)\n\u001b[1;32m    119\u001b[0m \u001b[0;34m\u001b[0m\u001b[0m\n",
      "\u001b[0;31mNameError\u001b[0m: name 'context_net' is not defined"
     ]
    }
   ],
   "source": [
    "model = ImplicitFactorizationModel(loss='adaptive_hinge',representation='nonlinear_mixture')\n",
    "model.fit(inters)"
   ]
  },
  {
   "cell_type": "code",
   "execution_count": null,
   "metadata": {},
   "outputs": [],
   "source": []
  },
  {
   "cell_type": "code",
   "execution_count": null,
   "metadata": {},
   "outputs": [],
   "source": []
  }
 ],
 "metadata": {
  "kernelspec": {
   "display_name": "Python 3",
   "language": "python",
   "name": "python3"
  },
  "language_info": {
   "codemirror_mode": {
    "name": "ipython",
    "version": 3
   },
   "file_extension": ".py",
   "mimetype": "text/x-python",
   "name": "python",
   "nbconvert_exporter": "python",
   "pygments_lexer": "ipython3",
   "version": "3.7.2"
  }
 },
 "nbformat": 4,
 "nbformat_minor": 2
}
